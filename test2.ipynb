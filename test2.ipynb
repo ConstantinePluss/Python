{
 "cells": [
  {
   "cell_type": "code",
   "execution_count": 1,
   "metadata": {
    "execution": {
     "iopub.execute_input": "2024-09-29T19:46:12.117246Z",
     "iopub.status.busy": "2024-09-29T19:46:12.117246Z",
     "iopub.status.idle": "2024-09-29T19:46:12.131896Z",
     "shell.execute_reply": "2024-09-29T19:46:12.130878Z"
    }
   },
   "outputs": [
    {
     "name": "stdout",
     "output_type": "stream",
     "text": [
      "Yes\n"
     ]
    }
   ],
   "source": [
    "# Открываем файл для чтения\n",
    "with open('M:\\\\QUIK_code\\\\text.txt', 'r', encoding='utf-8') as file:\n",
    "    # Читаем содержимое файла\n",
    "    content = file.read()\n",
    "    \n",
    "    # Выводим содержимое на экран\n",
    "    print(content)"
   ]
  },
  {
   "cell_type": "code",
   "execution_count": 2,
   "metadata": {
    "execution": {
     "iopub.execute_input": "2024-09-29T19:46:12.137627Z",
     "iopub.status.busy": "2024-09-29T19:46:12.137627Z",
     "iopub.status.idle": "2024-09-29T19:46:12.141262Z",
     "shell.execute_reply": "2024-09-29T19:46:12.140776Z"
    }
   },
   "outputs": [],
   "source": [
    "#jupyter nbconvert --to notebook --execute --inplace --ExecutePreprocessor.timeout=-1 --ExecutePreprocessor.allow_errors=True --ExecutePreprocessor.start_timeout=60 --ExecutePreprocessor.kernel_name=python3 --execute \"M:\\QUIK_code\\test.ipynb\" --output \"test2.ipynb\""
   ]
  }
 ],
 "metadata": {
  "kernelspec": {
   "display_name": ".venv",
   "language": "python",
   "name": "python3"
  },
  "language_info": {
   "codemirror_mode": {
    "name": "ipython",
    "version": 3
   },
   "file_extension": ".py",
   "mimetype": "text/x-python",
   "name": "python",
   "nbconvert_exporter": "python",
   "pygments_lexer": "ipython3",
   "version": "3.12.0"
  }
 },
 "nbformat": 4,
 "nbformat_minor": 2
}

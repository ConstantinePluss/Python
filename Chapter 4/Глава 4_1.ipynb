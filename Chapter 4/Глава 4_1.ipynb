{
 "cells": [
  {
   "cell_type": "markdown",
   "metadata": {},
   "source": [
    "# 4. Статистический анализ данных"
   ]
  },
  {
   "cell_type": "markdown",
   "metadata": {},
   "source": [
    "### 1. Среднее значение,  медиана, мода и диапазон"
   ]
  },
  {
   "cell_type": "markdown",
   "metadata": {},
   "source": [
    "### 1.1"
   ]
  },
  {
   "cell_type": "code",
   "execution_count": 7,
   "metadata": {},
   "outputs": [
    {
     "name": "stdout",
     "output_type": "stream",
     "text": [
      "               date  temp  pressure  humidity\n",
      "0  31.12.2019 23:00  -9.2     743.1        76\n",
      "1  31.12.2019 20:00  -8.8     744.1        75\n",
      "2  31.12.2019 17:00  -7.9     744.5        82\n",
      "3  31.12.2019 14:00 -11.5     745.9        85\n",
      "4  31.12.2019 11:00 -12.8     749.0        84\n",
      "5  31.12.2019 08:00 -15.3     752.8        83\n",
      "6  31.12.2019 05:00 -18.4     757.6        80\n",
      "7  31.12.2019 02:00 -20.9     761.5        79\n",
      "8  30.12.2019 23:00 -21.4     764.2        78\n",
      "9  30.12.2019 20:00 -20.9     766.8        79\n",
      "              temp     pressure     humidity\n",
      "count  2919.000000  2918.000000  2919.000000\n",
      "mean      3.953923   761.434133    66.257965\n",
      "std      11.908801     8.133222    17.755583\n",
      "min     -31.800000   735.000000    13.000000\n",
      "25%      -5.200000   756.100000    55.000000\n",
      "50%       3.900000   761.200000    72.000000\n",
      "75%      13.500000   766.900000    80.000000\n",
      "max      33.600000   787.600000    93.000000\n"
     ]
    }
   ],
   "source": [
    "import matplotlib.pyplot as plt\n",
    "import pandas as pd\n",
    "\n",
    "df = pd.read_csv('ekb_weather.csv')\n",
    "\n",
    "print(df.head(10))\n",
    "print(df.describe())"
   ]
  },
  {
   "cell_type": "markdown",
   "metadata": {},
   "source": [
    "### 1.2"
   ]
  },
  {
   "cell_type": "code",
   "execution_count": 6,
   "metadata": {},
   "outputs": [
    {
     "name": "stdout",
     "output_type": "stream",
     "text": [
      "<class 'pandas.core.frame.DataFrame'>\n",
      "RangeIndex: 2919 entries, 0 to 2918\n",
      "Data columns (total 4 columns):\n",
      " #   Column    Non-Null Count  Dtype         \n",
      "---  ------    --------------  -----         \n",
      " 0   date      2919 non-null   datetime64[ns]\n",
      " 1   temp      2919 non-null   float64       \n",
      " 2   pressure  2918 non-null   float64       \n",
      " 3   humidity  2919 non-null   int64         \n",
      "dtypes: datetime64[ns](1), float64(2), int64(1)\n",
      "memory usage: 91.3 KB\n",
      "None\n"
     ]
    }
   ],
   "source": [
    "import matplotlib.pyplot as plt\n",
    "import pandas as pd\n",
    "\n",
    "df = pd.read_csv('ekb_weather.csv')\n",
    "df['date'] = pd.to_datetime(df['date'])\n",
    "\n",
    "print(df.info())"
   ]
  },
  {
   "cell_type": "markdown",
   "metadata": {},
   "source": [
    "### 1.3 "
   ]
  },
  {
   "cell_type": "code",
   "execution_count": 7,
   "metadata": {},
   "outputs": [
    {
     "name": "stdout",
     "output_type": "stream",
     "text": [
      "                    date  temp  pressure  humidity    month\n",
      "0    2019-12-31 23:00:00  -9.2     743.1        76  Декабрь\n",
      "1    2019-12-31 20:00:00  -8.8     744.1        75  Декабрь\n",
      "2    2019-12-31 17:00:00  -7.9     744.5        82  Декабрь\n",
      "3    2019-12-31 14:00:00 -11.5     745.9        85  Декабрь\n",
      "4    2019-12-31 11:00:00 -12.8     749.0        84  Декабрь\n",
      "...                  ...   ...       ...       ...      ...\n",
      "2914 2019-01-01 14:00:00 -10.6     770.8        71   Январь\n",
      "2915 2019-01-01 11:00:00 -11.9     771.3        75   Январь\n",
      "2916 2019-01-01 08:00:00 -12.8     770.9        75   Январь\n",
      "2917 2019-01-01 05:00:00 -12.8     770.9        75   Январь\n",
      "2918 2019-01-01 02:00:00 -11.8     770.6        75   Январь\n",
      "\n",
      "[2919 rows x 5 columns]\n"
     ]
    }
   ],
   "source": [
    "import matplotlib.pyplot as plt\n",
    "import pandas as pd\n",
    "\n",
    "df = pd.read_csv('ekb_weather.csv')\n",
    "months = {1:'Январь', 2:'Февраль', 3:'Март', 4:'Апрель', 5:'Май', 6:'Июнь', 7:'Июль', 8:'Август', 9:'Сентябрь', 10:'Октябрь', 11:'Ноябрь', 12:'Декабрь'}\n",
    "\n",
    "df['date'] = pd.to_datetime(df['date'])\n",
    "df['month'] = pd.DatetimeIndex(df['date']).month\n",
    "\n",
    "#Использование собственной функции\n",
    "df['month'] = df['month'].apply(lambda i: months[i])\n",
    "\n",
    "df.to_csv('new_ekb_weather.csv')\n",
    "\n",
    "print(df)\n",
    "\n",
    "\n",
    "#Использование встроенных методов\n",
    "#df['date'] = pd.to_datetime(df['date'])\n",
    "#df['month'] = df['date'].dt.month\n",
    "#df['month'] = pd.to_datetime(df['month'], format='%m').dt.month_name()\n",
    "#print(df)\n",
    "\n",
    "#df['date'] = pd.to_datetime(df['date'])\n",
    "#df[\"month\"] = pd.to_datetime(df[\"Date\"]).dt.month\n",
    "#df[\"month\"] = pd.to_datetime(df[\"date\"]).dt.strftime(\"%B\")\n",
    "\n",
    "\n",
    "\n",
    "\n"
   ]
  },
  {
   "cell_type": "markdown",
   "metadata": {},
   "source": [
    "### 1.4"
   ]
  },
  {
   "cell_type": "code",
   "execution_count": 42,
   "metadata": {},
   "outputs": [
    {
     "name": "stdout",
     "output_type": "stream",
     "text": [
      "                    date  temp  pressure  humidity    month\n",
      "0    2019-12-31 23:00:00  -9.2     743.1        76  Декабрь\n",
      "1    2019-12-31 20:00:00  -8.8     744.1        75  Декабрь\n",
      "2    2019-12-31 17:00:00  -7.9     744.5        82  Декабрь\n",
      "3    2019-12-31 14:00:00 -11.5     745.9        85  Декабрь\n",
      "4    2019-12-31 11:00:00 -12.8     749.0        84  Декабрь\n",
      "...                  ...   ...       ...       ...      ...\n",
      "2914 2019-01-01 14:00:00 -10.6     770.8        71   Январь\n",
      "2915 2019-01-01 11:00:00 -11.9     771.3        75   Январь\n",
      "2916 2019-01-01 08:00:00 -12.8     770.9        75   Январь\n",
      "2917 2019-01-01 05:00:00 -12.8     770.9        75   Январь\n",
      "2918 2019-01-01 02:00:00 -11.8     770.6        75   Январь\n",
      "\n",
      "[2919 rows x 5 columns]\n"
     ]
    }
   ],
   "source": [
    "import matplotlib.pyplot as plt\n",
    "import pandas as pd\n",
    "\n",
    "df = pd.read_csv('new_ekb_weather.csv')\n",
    "df = df.drop('Unnamed: 0', axis=1)\n",
    "df['date'] = pd.to_datetime(df['date'])\n",
    "print(df)\n"
   ]
  },
  {
   "cell_type": "code",
   "execution_count": 88,
   "metadata": {},
   "outputs": [
    {
     "name": "stdout",
     "output_type": "stream",
     "text": [
      "               temp    pressure   humidity\n",
      "month                                     \n",
      "Август    11.248387  761.472984  69.967742\n",
      "Апрель     2.530000  762.376250  57.258333\n",
      "Декабрь   -2.381855  763.216532  71.000000\n",
      "Июль      14.629435  757.202419  61.084677\n",
      "Июнь      11.288703  759.383682  59.364017\n",
      "Май        8.328629  761.002016  58.560484\n",
      "Март       1.411290  761.793117  65.790323\n",
      "Ноябрь    -1.612083  770.042083  70.029167\n",
      "Октябрь    3.963710  761.418548  72.286290\n",
      "Сентябрь   6.235833  759.481667  69.566667\n",
      "Февраль   -2.512946  757.710268  68.830357\n",
      "Январь    -6.193548  761.921774  71.294355\n"
     ]
    }
   ],
   "source": [
    "mean_month_group = df.groupby('month').mean(numeric_only = True)\n",
    "print(mean_month_group)\n"
   ]
  },
  {
   "cell_type": "code",
   "execution_count": 99,
   "metadata": {},
   "outputs": [
    {
     "name": "stdout",
     "output_type": "stream",
     "text": [
      "Январь \n",
      "\n"
     ]
    }
   ],
   "source": [
    "if mean_month_group.loc['Январь','temp'] < mean_month_group.loc['Декабрь','temp']:\n",
    "    print(\"Январь\", '\\n')\n",
    "else:\n",
    "    print(\"Декабрь\", '\\n')\n"
   ]
  },
  {
   "cell_type": "code",
   "execution_count": null,
   "metadata": {},
   "outputs": [],
   "source": [
    "if mean_month_group.loc[\"April\",'pressure'] > mean_month_group.loc[\"November\",'pressure']:\n",
    "    print(\"April\", '\\n')\n",
    "else:\n",
    "    print(\"November\", '\\n')"
   ]
  },
  {
   "cell_type": "code",
   "execution_count": null,
   "metadata": {},
   "outputs": [],
   "source": [
    "if mean_month_group.loc[\"June\",'humidity'] > mean_month_group.loc[\"August\",'humidity']:\n",
    "    print(\"June\", '\\n')\n",
    "else:\n",
    "    print(\"August\", '\\n')\n"
   ]
  }
 ],
 "metadata": {
  "kernelspec": {
   "display_name": "Python 3.10.0 64-bit",
   "language": "python",
   "name": "python3"
  },
  "language_info": {
   "codemirror_mode": {
    "name": "ipython",
    "version": 3
   },
   "file_extension": ".py",
   "mimetype": "text/x-python",
   "name": "python",
   "nbconvert_exporter": "python",
   "pygments_lexer": "ipython3",
   "version": "3.10.0"
  },
  "orig_nbformat": 4,
  "vscode": {
   "interpreter": {
    "hash": "345d9ef4914ea51007bb744ab44f647f51de75f0960a4e12a6d0b54c2bd5b3cf"
   }
  }
 },
 "nbformat": 4,
 "nbformat_minor": 2
}

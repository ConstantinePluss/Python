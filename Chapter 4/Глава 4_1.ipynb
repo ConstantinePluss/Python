{
 "cells": [
  {
   "cell_type": "markdown",
   "metadata": {},
   "source": [
    "# 4. Статистический анализ данных"
   ]
  },
  {
   "cell_type": "markdown",
   "metadata": {},
   "source": [
    "### 1. Среднее значение,  медиана, мода и диапазон"
   ]
  },
  {
   "cell_type": "markdown",
   "metadata": {},
   "source": [
    "### 1.1"
   ]
  },
  {
   "cell_type": "code",
   "execution_count": 95,
   "metadata": {},
   "outputs": [
    {
     "name": "stdout",
     "output_type": "stream",
     "text": [
      "               date  temp  pressure  humidity\n",
      "0  31.12.2019 23:00  -9.2     743.1        76\n",
      "1  31.12.2019 20:00  -8.8     744.1        75\n",
      "2  31.12.2019 17:00  -7.9     744.5        82\n",
      "3  31.12.2019 14:00 -11.5     745.9        85\n",
      "4  31.12.2019 11:00 -12.8     749.0        84\n",
      "5  31.12.2019 08:00 -15.3     752.8        83\n",
      "6  31.12.2019 05:00 -18.4     757.6        80\n",
      "7  31.12.2019 02:00 -20.9     761.5        79\n",
      "8  30.12.2019 23:00 -21.4     764.2        78\n",
      "9  30.12.2019 20:00 -20.9     766.8        79\n",
      "              temp     pressure     humidity\n",
      "count  2919.000000  2918.000000  2919.000000\n",
      "mean      3.953923   761.434133    66.257965\n",
      "std      11.908801     8.133222    17.755583\n",
      "min     -31.800000   735.000000    13.000000\n",
      "25%      -5.200000   756.100000    55.000000\n",
      "50%       3.900000   761.200000    72.000000\n",
      "75%      13.500000   766.900000    80.000000\n",
      "max      33.600000   787.600000    93.000000\n"
     ]
    }
   ],
   "source": [
    "import matplotlib.pyplot as plt\n",
    "import pandas as pd\n",
    "\n",
    "df = pd.read_csv('ekb_weather.csv')\n",
    "\n",
    "print(df.head(10))\n",
    "print(df.describe())"
   ]
  },
  {
   "cell_type": "markdown",
   "metadata": {},
   "source": [
    "### 1.2"
   ]
  },
  {
   "cell_type": "code",
   "execution_count": 96,
   "metadata": {},
   "outputs": [
    {
     "name": "stdout",
     "output_type": "stream",
     "text": [
      "<class 'pandas.core.frame.DataFrame'>\n",
      "RangeIndex: 2919 entries, 0 to 2918\n",
      "Data columns (total 4 columns):\n",
      " #   Column    Non-Null Count  Dtype         \n",
      "---  ------    --------------  -----         \n",
      " 0   date      2919 non-null   datetime64[ns]\n",
      " 1   temp      2919 non-null   float64       \n",
      " 2   pressure  2918 non-null   float64       \n",
      " 3   humidity  2919 non-null   int64         \n",
      "dtypes: datetime64[ns](1), float64(2), int64(1)\n",
      "memory usage: 91.3 KB\n",
      "None\n"
     ]
    }
   ],
   "source": [
    "import matplotlib.pyplot as plt\n",
    "import pandas as pd\n",
    "\n",
    "df = pd.read_csv('ekb_weather.csv')\n",
    "df['date'] = pd.to_datetime(df['date'])\n",
    "\n",
    "print(df.info())"
   ]
  },
  {
   "cell_type": "markdown",
   "metadata": {},
   "source": [
    "### 1.3 "
   ]
  },
  {
   "cell_type": "code",
   "execution_count": 97,
   "metadata": {},
   "outputs": [
    {
     "name": "stdout",
     "output_type": "stream",
     "text": [
      "                    date  temp  pressure  humidity    month\n",
      "0    2019-12-31 23:00:00  -9.2     743.1        76  Декабрь\n",
      "1    2019-12-31 20:00:00  -8.8     744.1        75  Декабрь\n",
      "2    2019-12-31 17:00:00  -7.9     744.5        82  Декабрь\n",
      "3    2019-12-31 14:00:00 -11.5     745.9        85  Декабрь\n",
      "4    2019-12-31 11:00:00 -12.8     749.0        84  Декабрь\n",
      "...                  ...   ...       ...       ...      ...\n",
      "2914 2019-01-01 14:00:00 -10.6     770.8        71   Январь\n",
      "2915 2019-01-01 11:00:00 -11.9     771.3        75   Январь\n",
      "2916 2019-01-01 08:00:00 -12.8     770.9        75   Январь\n",
      "2917 2019-01-01 05:00:00 -12.8     770.9        75   Январь\n",
      "2918 2019-01-01 02:00:00 -11.8     770.6        75   Январь\n",
      "\n",
      "[2919 rows x 5 columns]\n"
     ]
    }
   ],
   "source": [
    "import matplotlib.pyplot as plt\n",
    "import pandas as pd\n",
    "\n",
    "df = pd.read_csv('ekb_weather.csv')\n",
    "months = {1:'Январь', 2:'Февраль', 3:'Март', 4:'Апрель', 5:'Май', 6:'Июнь', 7:'Июль', 8:'Август', 9:'Сентябрь', 10:'Октябрь', 11:'Ноябрь', 12:'Декабрь'}\n",
    "\n",
    "df['date'] = pd.to_datetime(df['date'])\n",
    "df['month'] = pd.DatetimeIndex(df['date']).month\n",
    "\n",
    "#Использование собственной функции\n",
    "df['month'] = df['month'].apply(lambda i: months[i])\n",
    "\n",
    "df.to_csv('new_ekb_weather.csv')\n",
    "\n",
    "print(df)\n",
    "\n",
    "\n",
    "#Использование встроенных методов\n",
    "#df['date'] = pd.to_datetime(df['date'])\n",
    "#df['month'] = df['date'].dt.month\n",
    "#df['month'] = pd.to_datetime(df['month'], format='%m').dt.month_name()\n",
    "#print(df)\n",
    "\n",
    "#df['date'] = pd.to_datetime(df['date'])\n",
    "#df[\"month\"] = pd.to_datetime(df[\"Date\"]).dt.month\n",
    "#df[\"month\"] = pd.to_datetime(df[\"date\"]).dt.strftime(\"%B\")\n",
    "\n",
    "\n",
    "\n",
    "\n"
   ]
  },
  {
   "cell_type": "markdown",
   "metadata": {},
   "source": [
    "### 1.4"
   ]
  },
  {
   "cell_type": "code",
   "execution_count": 98,
   "metadata": {},
   "outputs": [
    {
     "name": "stdout",
     "output_type": "stream",
     "text": [
      "                    date  temp  pressure  humidity    month\n",
      "0    2019-12-31 23:00:00  -9.2     743.1        76  Декабрь\n",
      "1    2019-12-31 20:00:00  -8.8     744.1        75  Декабрь\n",
      "2    2019-12-31 17:00:00  -7.9     744.5        82  Декабрь\n",
      "3    2019-12-31 14:00:00 -11.5     745.9        85  Декабрь\n",
      "4    2019-12-31 11:00:00 -12.8     749.0        84  Декабрь\n",
      "...                  ...   ...       ...       ...      ...\n",
      "2914 2019-01-01 14:00:00 -10.6     770.8        71   Январь\n",
      "2915 2019-01-01 11:00:00 -11.9     771.3        75   Январь\n",
      "2916 2019-01-01 08:00:00 -12.8     770.9        75   Январь\n",
      "2917 2019-01-01 05:00:00 -12.8     770.9        75   Январь\n",
      "2918 2019-01-01 02:00:00 -11.8     770.6        75   Январь\n",
      "\n",
      "[2919 rows x 5 columns]\n"
     ]
    }
   ],
   "source": [
    "import matplotlib.pyplot as plt\n",
    "import pandas as pd\n",
    "\n",
    "df = pd.read_csv('new_ekb_weather.csv')\n",
    "df = df.drop('Unnamed: 0', axis=1)\n",
    "df['date'] = pd.to_datetime(df['date'])\n",
    "print(df)\n"
   ]
  },
  {
   "cell_type": "code",
   "execution_count": 99,
   "metadata": {},
   "outputs": [
    {
     "name": "stdout",
     "output_type": "stream",
     "text": [
      "               temp    pressure   humidity\n",
      "month                                     \n",
      "Август    11.248387  761.472984  69.967742\n",
      "Апрель     2.530000  762.376250  57.258333\n",
      "Декабрь   -2.381855  763.216532  71.000000\n",
      "Июль      14.629435  757.202419  61.084677\n",
      "Июнь      11.288703  759.383682  59.364017\n",
      "Май        8.328629  761.002016  58.560484\n",
      "Март       1.411290  761.793117  65.790323\n",
      "Ноябрь    -1.612083  770.042083  70.029167\n",
      "Октябрь    3.963710  761.418548  72.286290\n",
      "Сентябрь   6.235833  759.481667  69.566667\n",
      "Февраль   -2.512946  757.710268  68.830357\n",
      "Январь    -6.193548  761.921774  71.294355\n"
     ]
    }
   ],
   "source": [
    "from calendar import month\n",
    "\n",
    "\n",
    "mean_month_group = df.groupby('month').mean(numeric_only = True)\n",
    "print(mean_month_group)\n"
   ]
  },
  {
   "cell_type": "code",
   "execution_count": 100,
   "metadata": {},
   "outputs": [
    {
     "name": "stdout",
     "output_type": "stream",
     "text": [
      "Январь \n",
      "\n"
     ]
    }
   ],
   "source": [
    "if mean_month_group.loc['Январь','temp'] < mean_month_group.loc['Декабрь','temp']:\n",
    "    print(\"Январь\", '\\n')\n",
    "else:\n",
    "    print(\"Декабрь\", '\\n')\n"
   ]
  },
  {
   "cell_type": "code",
   "execution_count": 101,
   "metadata": {},
   "outputs": [
    {
     "name": "stdout",
     "output_type": "stream",
     "text": [
      "Ноябрь \n",
      "\n"
     ]
    }
   ],
   "source": [
    "if mean_month_group.loc[\"Апрель\",'pressure'] > mean_month_group.loc[\"Ноябрь\",'pressure']:\n",
    "    print(\"Апрель\", '\\n')\n",
    "else:\n",
    "    print(\"Ноябрь\", '\\n')"
   ]
  },
  {
   "cell_type": "code",
   "execution_count": 102,
   "metadata": {},
   "outputs": [
    {
     "name": "stdout",
     "output_type": "stream",
     "text": [
      "Август \n",
      "\n"
     ]
    }
   ],
   "source": [
    "if mean_month_group.loc[\"Июнь\",'humidity'] > mean_month_group.loc[\"Август\",'humidity']:\n",
    "    print(\"Июнь\", '\\n')\n",
    "else:\n",
    "    print(\"Август\", '\\n')\n"
   ]
  },
  {
   "cell_type": "markdown",
   "metadata": {},
   "source": [
    "### 1.5"
   ]
  },
  {
   "cell_type": "code",
   "execution_count": 117,
   "metadata": {},
   "outputs": [
    {
     "name": "stdout",
     "output_type": "stream",
     "text": [
      "               mean  median           mode\n",
      "month                                     \n",
      "Август    11.248387   13.40  ([14.6], [5])\n",
      "Апрель     2.530000    3.25   ([5.4], [4])\n",
      "Декабрь   -2.381855   -5.40  ([-4.9], [6])\n",
      "Июль      14.629435   16.95  ([15.3], [4])\n",
      "Июнь      11.288703   13.60  ([13.6], [5])\n",
      "Май        8.328629    9.55  ([10.9], [5])\n",
      "Март       1.411290    0.70   ([0.7], [6])\n",
      "Ноябрь    -1.612083   -4.25  ([-1.4], [5])\n",
      "Октябрь    3.963710    3.20  ([-0.2], [5])\n",
      "Сентябрь   6.235833    5.85   ([2.2], [7])\n",
      "Февраль   -2.512946   -5.45  ([-5.1], [8])\n",
      "Январь    -6.193548   -7.75  ([-7.7], [6])\n"
     ]
    },
    {
     "name": "stderr",
     "output_type": "stream",
     "text": [
      "c:\\Users\\KFM\\AppData\\Local\\Programs\\Python\\Python310\\lib\\site-packages\\pandas\\core\\groupby\\groupby.py:1476: FutureWarning: Unlike other reduction functions (e.g. `skew`, `kurtosis`), the default behavior of `mode` typically preserves the axis it acts along. In SciPy 1.11.0, this behavior will change: the default value of `keepdims` will become False, the `axis` over which the statistic is taken will be eliminated, and the value None will no longer be accepted. Set `keepdims` to True or False to avoid this warning.\n",
      "  f = lambda x: func(x, *args, **kwargs)\n"
     ]
    }
   ],
   "source": [
    "import matplotlib.pyplot as plt\n",
    "import pandas as pd\n",
    "import numpy as np\n",
    "from scipy import stats\n",
    "\n",
    "df = df.groupby('month')['temp'].agg([np.mean, np.median, stats.mode])\n",
    "print(df)"
   ]
  },
  {
   "cell_type": "code",
   "execution_count": 119,
   "metadata": {},
   "outputs": [],
   "source": [
    "df = df.reset_index(level='month')"
   ]
  },
  {
   "cell_type": "code",
   "execution_count": 145,
   "metadata": {},
   "outputs": [
    {
     "name": "stdout",
     "output_type": "stream",
     "text": [
      "       month       mean  median           mode\n",
      "0     Август  11.248387   13.40  ([14.6], [5])\n",
      "1     Апрель   2.530000    3.25   ([5.4], [4])\n",
      "2    Декабрь  -2.381855   -5.40  ([-4.9], [6])\n",
      "3       Июль  14.629435   16.95  ([15.3], [4])\n",
      "4       Июнь  11.288703   13.60  ([13.6], [5])\n",
      "5        Май   8.328629    9.55  ([10.9], [5])\n",
      "6       Март   1.411290    0.70   ([0.7], [6])\n",
      "7     Ноябрь  -1.612083   -4.25  ([-1.4], [5])\n",
      "8    Октябрь   3.963710    3.20  ([-0.2], [5])\n",
      "9   Сентябрь   6.235833    5.85   ([2.2], [7])\n",
      "10   Февраль  -2.512946   -5.45  ([-5.1], [8])\n",
      "11    Январь  -6.193548   -7.75  ([-7.7], [6])\n"
     ]
    },
    {
     "data": {
      "image/png": "[encoded data removed]",
      "text/plain": [
       "<Figure size 1500x1500 with 3 Axes>"
      ]
     },
     "metadata": {},
     "output_type": "display_data"
    }
   ],
   "source": [
    "print(df)\n",
    "\n",
    "fig, (ax1,ax2, ax3) = plt.subplots(nrows = 3, ncols = 1, figsize = (15,15))\n",
    "\n",
    "ax1.bar(df['month'], df['mean'], color = 'y')\n",
    "ax2.bar(df['month'], df['median'])\n",
    "ax3.bar(df['month'], df['median'], color = 'g')\n",
    "\n",
    "plt.show()"
   ]
  }
 ],
 "metadata": {
  "kernelspec": {
   "display_name": "Python 3.10.6 64-bit",
   "language": "python",
   "name": "python3"
  },
  "language_info": {
   "codemirror_mode": {
    "name": "ipython",
    "version": 3
   },
   "file_extension": ".py",
   "mimetype": "text/x-python",
   "name": "python",
   "nbconvert_exporter": "python",
   "pygments_lexer": "ipython3",
   "version": "3.10.6"
  },
  "orig_nbformat": 4,
  "vscode": {
   "interpreter": {
    "hash": "3d8339e432030cf8d6bc4a316fe0272e8933724461f8aa8f9b602d3280b818dd"
   }
  }
 },
 "nbformat": 4,
 "nbformat_minor": 2
}

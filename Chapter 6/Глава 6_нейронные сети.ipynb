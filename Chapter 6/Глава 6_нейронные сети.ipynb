{
 "cells": [
  {
   "cell_type": "code",
   "execution_count": 25,
   "metadata": {},
   "outputs": [
    {
     "name": "stdout",
     "output_type": "stream",
     "text": [
      "Вывод исходных данных\n",
      "      age  sex  cp  trestbps  chol  fbs  restecg  thalach  exang  oldpeak  \\\n",
      "0     63    1   3       145   233    1        0      150      0      2.3   \n",
      "1     37    1   2       130   250    0        1      187      0      3.5   \n",
      "2     41    0   1       130   204    0        0      172      0      1.4   \n",
      "3     56    1   1       120   236    0        1      178      0      0.8   \n",
      "4     57    0   0       120   354    0        1      163      1      0.6   \n",
      "..   ...  ...  ..       ...   ...  ...      ...      ...    ...      ...   \n",
      "298   57    0   0       140   241    0        1      123      1      0.2   \n",
      "299   45    1   3       110   264    0        1      132      0      1.2   \n",
      "300   68    1   0       144   193    1        1      141      0      3.4   \n",
      "301   57    1   0       130   131    0        1      115      1      1.2   \n",
      "302   57    0   1       130   236    0        0      174      0      0.0   \n",
      "\n",
      "     slope  ca  thal  target  \n",
      "0        0   0     1       1  \n",
      "1        0   0     2       1  \n",
      "2        2   0     2       1  \n",
      "3        2   0     2       1  \n",
      "4        2   0     2       1  \n",
      "..     ...  ..   ...     ...  \n",
      "298      1   0     3       0  \n",
      "299      1   0     3       0  \n",
      "300      1   2     3       0  \n",
      "301      1   1     3       0  \n",
      "302      1   1     2       0  \n",
      "\n",
      "[303 rows x 14 columns]\n",
      "prediction:\n",
      " [1 0 0 0 0 1 0 0 0 0 1 0 0 0 1 1 0 1 0 1 1 1 0 0 0 0 0 0 0 1 0 1 0 1 1 0 0\n",
      " 1 1 1 1 1 0 1 0 1 0 0 1 1 1 1 1 0 1 0 1 1 1 1 0 0 0 1 0 0 0 1 0 1 1 1 1 1\n",
      " 1 0 1 0 0 1 1 0 0 0 0 0 1 1 1 0 0]\n",
      "Точность предсказания 0.8\n"
     ]
    }
   ],
   "source": [
    "from sklearn.neural_network import MLPClassifier\n",
    "from sklearn.preprocessing import StandardScaler\n",
    "from sklearn.model_selection import train_test_split\n",
    "import pandas as pd\n",
    "\n",
    "\n",
    "df = pd.read_csv('heart.csv')\n",
    "\n",
    "def output_column_name(target = 'target'):\n",
    "\n",
    "    list_name_columns = list(df.columns)\n",
    "    del_index = list_name_columns.index(target)\n",
    "    del list_name_columns [del_index]\n",
    "    return list_name_columns\n",
    "\n",
    "\n",
    "X = df[output_column_name()]\n",
    "y = df['target']\n",
    "\n",
    "\n",
    "X_train, X_test, y_train, y_test = train_test_split(X.values, y, test_size=0.30, random_state=1, stratify=y)\n",
    "\n",
    "clf = MLPClassifier(solver = 'lbfgs', alpha=1e-5, max_iter = 1000, random_state = 0, hidden_layer_sizes = (9,))\n",
    "\n",
    "scale = StandardScaler()\n",
    "clf = clf.fit(X_train, y_train)\n",
    "\n",
    "X_test_scaled = scale.fit_transform(X_test)\n",
    "\n",
    "\n",
    "print('Вывод исходных данных\\n', df)\n",
    "print('prediction:\\n', clf.predict(X_test_scaled))\n",
    "print('Точность предсказания', clf.score(X_test_scaled, y_test).round(2))\n"
   ]
  }
 ],
 "metadata": {
  "kernelspec": {
   "display_name": "Python 3.11.0 64-bit",
   "language": "python",
   "name": "python3"
  },
  "language_info": {
   "codemirror_mode": {
    "name": "ipython",
    "version": 3
   },
   "file_extension": ".py",
   "mimetype": "text/x-python",
   "name": "python",
   "nbconvert_exporter": "python",
   "pygments_lexer": "ipython3",
   "version": "3.11.0"
  },
  "orig_nbformat": 4,
  "vscode": {
   "interpreter": {
    "hash": "56830a2c58a39a7fee6565e6c5beb0494ec233b01869b8b0dc7e474f90afa905"
   }
  }
 },
 "nbformat": 4,
 "nbformat_minor": 2
}

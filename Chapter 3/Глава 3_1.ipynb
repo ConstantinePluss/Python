{
 "cells": [
  {
   "cell_type": "markdown",
   "metadata": {},
   "source": [
    "# Глава 3. Визуализация данных\n",
    "## 1. Визуализация данных и библиотека matplotlib\n",
    "## 1.1"
   ]
  },
  {
   "cell_type": "code",
   "execution_count": null,
   "metadata": {},
   "outputs": [],
   "source": [
    "import matplotlib.pyplot as plt\n",
    "import numpy as np\n",
    "\n",
    "#Ориентированный на структуру\n",
    "x_data = np.linspace(0, 20, 100)\n",
    "y_data = np.sin(x_data)\n",
    "f = plt.figure(figsize=(10,5))\n",
    "a = plt.axes()\n",
    "plt.plot(x_data, y_data, color='r', linewidth='1.0')\n",
    "plt.grid('g--',linewidth='0.8')\n",
    "plt.xlabel('Ось х')\n",
    "plt.ylabel('Ось y')\n",
    "plt.title('Ориентированный на структуру')\n",
    "plt.show()"
   ]
  },
  {
   "cell_type": "code",
   "execution_count": null,
   "metadata": {},
   "outputs": [],
   "source": [
    "#Ориентированный на объект\n",
    "x_data = np.linspace(0, 20, 100)\n",
    "y_data = np.sin(x_data)\n",
    "plt.plot(x_data, y_data, color='r', linewidth='1.0')\n",
    "plt.grid('g--',linewidth='0.8')\n",
    "plt.xlabel('Ось х')\n",
    "plt.ylabel('Ось y')\n",
    "plt.title('Ориентированный на объект')\n",
    "plt.show()"
   ]
  }
 ],
 "metadata": {
  "kernelspec": {
   "display_name": "Python 3.10.6 64-bit",
   "language": "python",
   "name": "python3"
  },
  "language_info": {
   "name": "python",
   "version": "3.10.6"
  },
  "orig_nbformat": 4,
  "vscode": {
   "interpreter": {
    "hash": "3d8339e432030cf8d6bc4a316fe0272e8933724461f8aa8f9b602d3280b818dd"
   }
  }
 },
 "nbformat": 4,
 "nbformat_minor": 2
}

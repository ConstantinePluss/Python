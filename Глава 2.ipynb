{
 "cells": [
  {
   "cell_type": "markdown",
   "metadata": {},
   "source": [
    "# Глава 2. Предобработка исследовательских данных"
   ]
  },
  {
   "cell_type": "markdown",
   "metadata": {},
   "source": [
    "## 1. Подключение и работа с библиотекой numpy"
   ]
  },
  {
   "cell_type": "markdown",
   "metadata": {},
   "source": [
    "### 1.1"
   ]
  },
  {
   "cell_type": "code",
   "execution_count": 3,
   "metadata": {},
   "outputs": [
    {
     "name": "stdout",
     "output_type": "stream",
     "text": [
      "Массив а содержит 3 строк и 3 столбцов.\n",
      "Массив b содержит 3 строк и 3 столбцов.\n",
      "\n"
     ]
    }
   ],
   "source": [
    "import numpy as np\n",
    "\n",
    "a=np.array([[2.3, 5.1, 4.7],\n",
    "            [3.5, 6.7, 1.5],\n",
    "            [8.4, 3.1, 9.2]])\n",
    "\n",
    "b=np.array([[4.3, 8.1, 0.1],\n",
    "            [3.7, 6.2, 1.5],\n",
    "            [2.4, 5.7, 4.7]])\n",
    "# 1)\n",
    "string,column=a.shape\n",
    "string_1,column_1=b.shape\n",
    "cos_a=np.cos(a)\n",
    "sin_b=np.sin(b)\n",
    "\n",
    "print(\"Массив а содержит\", string, \"строк и\", column, \"столбцов.\")\n",
    "print(\"Массив b содержит\", string_1, \"строк и\", column_1, \"столбцов.\", end=\"\\n\"*2)"
   ]
  },
  {
   "cell_type": "code",
   "execution_count": null,
   "metadata": {},
   "outputs": [],
   "source": []
  }
 ],
 "metadata": {
  "kernelspec": {
   "display_name": "Python 3.10.0 64-bit",
   "language": "python",
   "name": "python3"
  },
  "language_info": {
   "codemirror_mode": {
    "name": "ipython",
    "version": 3
   },
   "file_extension": ".py",
   "mimetype": "text/x-python",
   "name": "python",
   "nbconvert_exporter": "python",
   "pygments_lexer": "ipython3",
   "version": "3.10.0"
  },
  "orig_nbformat": 4,
  "vscode": {
   "interpreter": {
    "hash": "345d9ef4914ea51007bb744ab44f647f51de75f0960a4e12a6d0b54c2bd5b3cf"
   }
  }
 },
 "nbformat": 4,
 "nbformat_minor": 2
}

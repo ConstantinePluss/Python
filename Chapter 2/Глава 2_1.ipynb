{
 "cells": [
  {
   "cell_type": "markdown",
   "metadata": {},
   "source": [
    "# Глава 2. Предобработка исследовательских данных"
   ]
  },
  {
   "cell_type": "markdown",
   "metadata": {},
   "source": [
    "## 1. Подключение и работа с библиотекой numpy"
   ]
  },
  {
   "cell_type": "markdown",
   "metadata": {},
   "source": [
    "### 1.1"
   ]
  },
  {
   "cell_type": "code",
   "execution_count": 4,
   "metadata": {},
   "outputs": [],
   "source": [
    "import numpy as np\n",
    "\n",
    "a=np.array([[2.3, 5.1, 4.7],\n",
    "            [3.5, 6.7, 1.5],\n",
    "            [8.4, 3.1, 9.2]])\n",
    "\n",
    "b=np.array([[4.3, 8.1, 0.1],\n",
    "            [3.7, 6.2, 1.5],\n",
    "            [2.4, 5.7, 4.7]])\n"
   ]
  },
  {
   "cell_type": "markdown",
   "metadata": {},
   "source": [
    "1)"
   ]
  },
  {
   "cell_type": "code",
   "execution_count": 5,
   "metadata": {},
   "outputs": [
    {
     "name": "stdout",
     "output_type": "stream",
     "text": [
      "Массив а содержит 3 строк и 3 столбцов.\n",
      "Массив b содержит 3 строк и 3 столбцов.\n",
      "\n"
     ]
    }
   ],
   "source": [
    "string,column=a.shape\n",
    "string_1,column_1=b.shape\n",
    "cos_a=np.cos(a)\n",
    "sin_b=np.sin(b)\n",
    "\n",
    "print(\"Массив а содержит\", string, \"строк и\", column, \"столбцов.\")\n",
    "print(\"Массив b содержит\", string_1, \"строк и\", column_1, \"столбцов.\", end=\"\\n\"*2)"
   ]
  },
  {
   "cell_type": "markdown",
   "metadata": {},
   "source": [
    "2)"
   ]
  },
  {
   "cell_type": "code",
   "execution_count": 6,
   "metadata": {},
   "outputs": [
    {
     "name": "stdout",
     "output_type": "stream",
     "text": [
      "[[ 6.6 13.2  4.8]\n",
      " [ 7.2 12.9  3. ]\n",
      " [10.8  8.8 13.9]]\n",
      "\n",
      "[[-2.  -3.   4.6]\n",
      " [-0.2  0.5  0. ]\n",
      " [ 6.  -2.6  4.5]]\n",
      "\n",
      "[[ 9.89 41.31  0.47]\n",
      " [12.95 41.54  2.25]\n",
      " [20.16 17.67 43.24]]\n",
      "\n",
      "[[ 0.53488372  0.62962963 47.        ]\n",
      " [ 0.94594595  1.08064516  1.        ]\n",
      " [ 3.5         0.54385965  1.95744681]]\n",
      "\n"
     ]
    }
   ],
   "source": [
    "print(a+b, end=\"\\n\"*2)\n",
    "print(a-b, end=\"\\n\"*2)\n",
    "print(a*b, end=\"\\n\"*2)\n",
    "print(a/b, end=\"\\n\"*2)"
   ]
  },
  {
   "cell_type": "markdown",
   "metadata": {},
   "source": [
    "3)"
   ]
  },
  {
   "cell_type": "code",
   "execution_count": 29,
   "metadata": {},
   "outputs": [
    {
     "name": "stdout",
     "output_type": "stream",
     "text": [
      "[ 1.44  5.76  9.   12.25 44.89  2.25 70.56  9.61 84.64]\n",
      "\n"
     ]
    }
   ],
   "source": [
    "print(pow(a,2),end=\"\\n\"*2)"
   ]
  },
  {
   "cell_type": "markdown",
   "metadata": {},
   "source": [
    "4)"
   ]
  },
  {
   "cell_type": "code",
   "execution_count": 20,
   "metadata": {},
   "outputs": [
    {
     "name": "stdout",
     "output_type": "stream",
     "text": [
      "[[2.15 4.05 0.05]\n",
      " [1.85 3.1  0.75]\n",
      " [1.2  2.85 2.35]]\n",
      "\n"
     ]
    }
   ],
   "source": [
    "print(b/2,end=\"\\n\"*2)"
   ]
  },
  {
   "cell_type": "markdown",
   "metadata": {},
   "source": [
    "5)"
   ]
  },
  {
   "cell_type": "code",
   "execution_count": 40,
   "metadata": {},
   "outputs": [
    {
     "name": "stdout",
     "output_type": "stream",
     "text": [
      "cos a: [[-0.66627602  0.37797774 -0.01238866]\n",
      " [-0.93645669  0.91438315  0.0707372 ]\n",
      " [-0.51928865 -0.99913515 -0.97484362]]\n",
      "\n",
      "sin b: [[-0.91616594  0.96988981  0.09983342]\n",
      " [-0.52983614 -0.0830894   0.99749499]\n",
      " [ 0.67546318 -0.55068554 -0.99992326]]\n",
      "\n",
      "[[-1.58244196  1.34786755  0.08744475]\n",
      " [-1.46629283  0.83129375  1.06823219]\n",
      " [ 0.15617453 -1.54982069 -1.97476688]]\n"
     ]
    }
   ],
   "source": [
    "print(\"cos a:\", cos_a,end=\"\\n\"*2)\n",
    "print(\"sin b:\", sin_b,end=\"\\n\"*2)\n",
    "print(cos_a+sin_b)"
   ]
  },
  {
   "cell_type": "markdown",
   "metadata": {},
   "source": [
    "### 1.2\n"
   ]
  },
  {
   "cell_type": "code",
   "execution_count": 51,
   "metadata": {},
   "outputs": [],
   "source": [
    "import numpy as np\n",
    "\n",
    "aq = np.array([1.2, 2.4, 3.0, 3.5, 6.7, 1.5, 8.4, 3.1, 9.2])"
   ]
  },
  {
   "cell_type": "markdown",
   "metadata": {},
   "source": [
    "1) "
   ]
  },
  {
   "cell_type": "code",
   "execution_count": 52,
   "metadata": {},
   "outputs": [
    {
     "name": "stdout",
     "output_type": "stream",
     "text": [
      "(9,)\n",
      "\n"
     ]
    }
   ],
   "source": [
    "print(a.shape,end=\"\\n\"*2)"
   ]
  },
  {
   "cell_type": "markdown",
   "metadata": {},
   "source": [
    "2)"
   ]
  },
  {
   "cell_type": "code",
   "execution_count": 53,
   "metadata": {},
   "outputs": [
    {
     "name": "stdout",
     "output_type": "stream",
     "text": [
      "[[1.2]\n",
      " [2.4]\n",
      " [3. ]\n",
      " [3.5]\n",
      " [6.7]\n",
      " [1.5]\n",
      " [8.4]\n",
      " [3.1]\n",
      " [9.2]]\n",
      "\n"
     ]
    }
   ],
   "source": [
    "arr_1=a.reshape((9, 1))\n",
    "print(arr_1,end=\"\\n\"*2)"
   ]
  },
  {
   "cell_type": "markdown",
   "metadata": {},
   "source": [
    "3)"
   ]
  },
  {
   "cell_type": "code",
   "execution_count": 54,
   "metadata": {},
   "outputs": [
    {
     "name": "stdout",
     "output_type": "stream",
     "text": [
      "[[1.2 2.4 3. ]\n",
      " [3.5 6.7 1.5]\n",
      " [8.4 3.1 9.2]]\n",
      "\n"
     ]
    }
   ],
   "source": [
    "arr_2=a.reshape((3, 3))\n",
    "print(arr_2,end=\"\\n\"*2)"
   ]
  },
  {
   "cell_type": "markdown",
   "metadata": {},
   "source": [
    "4)"
   ]
  },
  {
   "cell_type": "code",
   "execution_count": 55,
   "metadata": {},
   "outputs": [
    {
     "name": "stdout",
     "output_type": "stream",
     "text": [
      "[8.4 6.7 9.2]\n",
      "\n",
      "[3.  6.7 9.2]\n",
      "\n"
     ]
    }
   ],
   "source": [
    "print(arr_2.max(axis=0),end=\"\\n\"*2)\n",
    "print(arr_2.max(axis=1),end=\"\\n\"*2)"
   ]
  },
  {
   "cell_type": "markdown",
   "metadata": {},
   "source": [
    "5)"
   ]
  },
  {
   "cell_type": "code",
   "execution_count": 56,
   "metadata": {},
   "outputs": [
    {
     "name": "stdout",
     "output_type": "stream",
     "text": [
      "[8.4 6.7 9.2]\n",
      "\n",
      "[3.  6.7 9.2]\n",
      "\n"
     ]
    }
   ],
   "source": [
    "print(arr_2.max(axis=0),end=\"\\n\"*2)\n",
    "print(arr_2.max(axis=1),end=\"\\n\"*2)"
   ]
  },
  {
   "cell_type": "markdown",
   "metadata": {},
   "source": [
    "6)"
   ]
  },
  {
   "cell_type": "code",
   "execution_count": 57,
   "metadata": {},
   "outputs": [
    {
     "name": "stdout",
     "output_type": "stream",
     "text": [
      "[13.1 12.2 13.7]\n",
      "\n",
      "[ 6.6 11.7 20.7]\n",
      "\n"
     ]
    }
   ],
   "source": [
    "print(arr_2.sum(axis=0),end=\"\\n\"*2)\n",
    "print(arr_2.sum(axis=1),end=\"\\n\"*2)"
   ]
  }
 ],
 "metadata": {
  "kernelspec": {
   "display_name": "Python 3.10.0 64-bit",
   "language": "python",
   "name": "python3"
  },
  "language_info": {
   "codemirror_mode": {
    "name": "ipython",
    "version": 3
   },
   "file_extension": ".py",
   "mimetype": "text/x-python",
   "name": "python",
   "nbconvert_exporter": "python",
   "pygments_lexer": "ipython3",
   "version": "3.10.0"
  },
  "orig_nbformat": 4,
  "vscode": {
   "interpreter": {
    "hash": "345d9ef4914ea51007bb744ab44f647f51de75f0960a4e12a6d0b54c2bd5b3cf"
   }
  }
 },
 "nbformat": 4,
 "nbformat_minor": 2
}

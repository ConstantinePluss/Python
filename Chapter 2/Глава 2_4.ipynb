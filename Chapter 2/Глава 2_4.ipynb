{
 "cells": [
  {
   "cell_type": "markdown",
   "metadata": {},
   "source": [
    "### 4\n",
    "### 4.1"
   ]
  },
  {
   "cell_type": "code",
   "execution_count": null,
   "metadata": {},
   "outputs": [],
   "source": [
    "import pandas as pd\n",
    "\n",
    "df = pd.read_csv('https://elteha.ru/data_science/precious_metal.csv', sep = ';')\n",
    "print(df.info())"
   ]
  },
  {
   "cell_type": "markdown",
   "metadata": {},
   "source": [
    "### 4.2"
   ]
  },
  {
   "cell_type": "code",
   "execution_count": null,
   "metadata": {},
   "outputs": [],
   "source": [
    "import pandas as pd\n",
    "\n",
    "df = pd.read_csv('https://elteha.ru/data_science/precious_metal.csv', sep = ';')\n",
    "df.set_axis(['gold', 'silver', 'platinum', 'palladium','date'], axis = 'columns', inplace = True)\n",
    "\n",
    "print(df)"
   ]
  },
  {
   "cell_type": "markdown",
   "metadata": {},
   "source": [
    "### 4.3"
   ]
  },
  {
   "cell_type": "code",
   "execution_count": null,
   "metadata": {},
   "outputs": [],
   "source": [
    "print('blank gold:', df['gold'].isnull().sum())\n",
    "print('blank silver:', df['silver'].isnull().sum())\n",
    "print('blank platinum:', df['platinum'].isnull().sum())\n",
    "print('blank palladium:', df['palladium'].isnull().sum())\n",
    "print('blank date:', df['date'].isnull().sum())\n",
    "print('\\n'*3)\n",
    "\n",
    "df_new = df.fillna(0)\n",
    "# Проверим есть пустые колонки теперь\n",
    "print(df_new)\n",
    "print('blank gold:', df_new['gold'].isnull().sum())\n",
    "print('blank silver:', df_new['silver'].isnull().sum())\n",
    "print('blank platinum:', df_new['platinum'].isnull().sum())\n",
    "print('blank palladium:', df_new['palladium'].isnull().sum())\n",
    "print('blank date:', df_new['date'].isnull().sum())\n",
    "\n",
    "\n",
    "\n"
   ]
  },
  {
   "cell_type": "markdown",
   "metadata": {},
   "source": [
    "### 4.4"
   ]
  },
  {
   "cell_type": "code",
   "execution_count": null,
   "metadata": {},
   "outputs": [],
   "source": [
    "df['gold'] = df['gold'].apply(lambda x: float(str(x).replace(',','.')))\n",
    "df['silver'] = df['silver'].apply(lambda x: float(str(x).replace(',','.')))\n",
    "df['platinum'] = df['platinum'].apply(lambda x: float(str(x).replace(',','.')))\n",
    "df['palladium'] = df['palladium'].apply(lambda x: float(str(x).replace(',','.')))\n",
    "\n",
    "print(df)"
   ]
  },
  {
   "cell_type": "markdown",
   "metadata": {},
   "source": [
    "### 4.5"
   ]
  },
  {
   "cell_type": "code",
   "execution_count": null,
   "metadata": {},
   "outputs": [],
   "source": [
    "df = pd.read_csv('https://elteha.ru/data_science/precious_metal.csv', sep = ';')\n",
    "df.set_axis(['gold', 'silver', 'platinum', 'palladium','date'], axis = 'columns', inplace = True)\n",
    "df.dropna(subset = ['gold', 'silver', 'platinum', 'palladium'], inplace = True) #Удаляем ячейки пропущенных значений\n",
    "df.drop([\"date\"], axis = 1, inplace=True) # Удаляем колонку date\n",
    "\n",
    "df['gold'] = df['gold'].apply(lambda x: float(str(x).replace(',','.')))\n",
    "df['silver'] = df['silver'].apply(lambda x: float(str(x).replace(',','.')))\n",
    "df['platinum'] = df['platinum'].apply(lambda x: float(str(x).replace(',','.')))\n",
    "df['palladium'] = df['palladium'].apply(lambda x: float(str(x).replace(',','.')))\n",
    "# Добавляем новые колонки\n",
    "value_usd = float(73.41)\n",
    "df[\"gold_usd\"] = round(df['gold'] / value_usd, 2)\n",
    "df[\"silver_usd\"] = round(df['silver'] / value_usd, 2)\n",
    "df[\"platinum_usd\"] = round(df['platinum'] / value_usd, 2)\n",
    "df[\"palladium_usd\"] = round(df['palladium'] / value_usd, 2)\n",
    "df.to_csv(\"precious_metal_new.csv\")\n",
    "\n",
    "print(df)\n"
   ]
  }
 ],
 "metadata": {
  "kernelspec": {
   "display_name": "Python 3.10.0 64-bit",
   "language": "python",
   "name": "python3"
  },
  "language_info": {
   "codemirror_mode": {
    "name": "ipython",
    "version": 3
   },
   "file_extension": ".py",
   "mimetype": "text/x-python",
   "name": "python",
   "nbconvert_exporter": "python",
   "pygments_lexer": "ipython3",
   "version": "3.10.0"
  },
  "orig_nbformat": 4,
  "vscode": {
   "interpreter": {
    "hash": "345d9ef4914ea51007bb744ab44f647f51de75f0960a4e12a6d0b54c2bd5b3cf"
   }
  }
 },
 "nbformat": 4,
 "nbformat_minor": 2
}

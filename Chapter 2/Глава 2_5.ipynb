{
 "cells": [
  {
   "cell_type": "markdown",
   "metadata": {},
   "source": [
    "### 5\n",
    "### 5.1"
   ]
  },
  {
   "cell_type": "code",
   "execution_count": 1,
   "metadata": {},
   "outputs": [
    {
     "name": "stdout",
     "output_type": "stream",
     "text": [
      "<class 'pandas.core.frame.DataFrame'>\n",
      "RangeIndex: 107 entries, 0 to 106\n",
      "Data columns (total 9 columns):\n",
      " #   Column         Non-Null Count  Dtype  \n",
      "---  ------         --------------  -----  \n",
      " 0   gold           107 non-null    float64\n",
      " 1   gold_usd       107 non-null    float64\n",
      " 2   silver         107 non-null    float64\n",
      " 3   silver_usd     107 non-null    float64\n",
      " 4   platinum       107 non-null    float64\n",
      " 5   platinum_usd   107 non-null    float64\n",
      " 6   palladium      107 non-null    float64\n",
      " 7   palladium_usd  107 non-null    float64\n",
      " 8   date           0 non-null      float64\n",
      "dtypes: float64(9)\n",
      "memory usage: 7.6 KB\n",
      "None\n"
     ]
    }
   ],
   "source": [
    "import pandas as pd\n",
    "import numpy as np\n",
    "\n",
    "df_new = pd.read_csv('precious_metal_new.csv')\n",
    "#Удаление ненужного стобца\n",
    "df_new.drop([\"Unnamed: 0\"], axis = 1, inplace=True)\n",
    "df_new['date'] = np.nan\n",
    "df_new = df_new.loc[:,['gold', 'gold_usd', 'silver', 'silver_usd',\n",
    "               'platinum', 'platinum_usd', 'palladium',\n",
    "               'palladium_usd', 'date']]\n",
    "\n",
    "print(df_new.info())"
   ]
  },
  {
   "cell_type": "markdown",
   "metadata": {},
   "source": [
    "### 5.2"
   ]
  },
  {
   "cell_type": "code",
   "execution_count": 7,
   "metadata": {},
   "outputs": [
    {
     "name": "stdout",
     "output_type": "stream",
     "text": [
      "<class 'pandas.core.frame.DataFrame'>\n",
      "RangeIndex: 107 entries, 0 to 106\n",
      "Data columns (total 9 columns):\n",
      " #   Column         Non-Null Count  Dtype         \n",
      "---  ------         --------------  -----         \n",
      " 0   gold           107 non-null    float64       \n",
      " 1   gold_usd       107 non-null    float64       \n",
      " 2   silver         107 non-null    float64       \n",
      " 3   silver_usd     107 non-null    float64       \n",
      " 4   platinum       107 non-null    float64       \n",
      " 5   platinum_usd   107 non-null    float64       \n",
      " 6   palladium      107 non-null    float64       \n",
      " 7   palladium_usd  107 non-null    float64       \n",
      " 8   date           0 non-null      datetime64[ns]\n",
      "dtypes: datetime64[ns](1), float64(8)\n",
      "memory usage: 7.6 KB\n",
      "None\n"
     ]
    }
   ],
   "source": [
    "df_new['date'] = pd.to_datetime(df_new.date, format = '%d.%m.%Y %H:%M')\n",
    "\n",
    "print(df_new.info())"
   ]
  }
 ],
 "metadata": {
  "kernelspec": {
   "display_name": "Python 3.10.0 64-bit",
   "language": "python",
   "name": "python3"
  },
  "language_info": {
   "codemirror_mode": {
    "name": "ipython",
    "version": 3
   },
   "file_extension": ".py",
   "mimetype": "text/x-python",
   "name": "python",
   "nbconvert_exporter": "python",
   "pygments_lexer": "ipython3",
   "version": "3.10.0"
  },
  "orig_nbformat": 4,
  "vscode": {
   "interpreter": {
    "hash": "345d9ef4914ea51007bb744ab44f647f51de75f0960a4e12a6d0b54c2bd5b3cf"
   }
  }
 },
 "nbformat": 4,
 "nbformat_minor": 2
}

{
 "cells": [
  {
   "cell_type": "markdown",
   "metadata": {},
   "source": [
    "### 2\n",
    "### 2.1"
   ]
  },
  {
   "cell_type": "code",
   "execution_count": 6,
   "metadata": {},
   "outputs": [
    {
     "name": "stdout",
     "output_type": "stream",
     "text": [
      "<class 'pandas.core.frame.DataFrame'>\n",
      "RangeIndex: 45 entries, 0 to 44\n",
      "Data columns (total 3 columns):\n",
      " #   Column   Non-Null Count  Dtype\n",
      "---  ------   --------------  -----\n",
      " 0   heights  45 non-null     int64\n",
      " 1   weights  45 non-null     int64\n",
      " 2   ages     45 non-null     int64\n",
      "dtypes: int64(3)\n",
      "memory usage: 1.2 KB\n",
      "None \n",
      "\n",
      "\n",
      "\n",
      "\n",
      "   heights  weights  ages\n",
      "0      188       86    58\n",
      "1      172       71    61\n",
      "2      187       89    54\n",
      "    heights  weights  ages\n",
      "42      150       82    54\n",
      "43      185       85    47\n",
      "44      199      110    38\n"
     ]
    }
   ],
   "source": [
    "import pandas as pd\n",
    "\n",
    "\n",
    "heights = [188, 172, 187, 161, 183, 172, 185, 163, 173, 183, 174, 174, 175,\n",
    "178, 183, 195, 178, 173, 174, 183, 174, 181, 162, 180, 170, 175, 182, 180, 183,\n",
    "178, 182, 188, 175, 179, 184, 193, 182, 183, 175, 185, 182, 183, 150, 185, 199]\n",
    "\n",
    "weights = [86, 71, 89, 64, 83, 72, 86, 68, 73, 84, 73, 72, 75, 78, 85, 93, 78,\n",
    "70, 74, 80, 83, 82, 68, 80, 73, 78, 82, 81, 83, 79, 82, 86, 76, 77, 80, 103,\n",
    "82, 83, 77, 89, 80, 85, 82, 85, 110]\n",
    "\n",
    "ages = [58, 61, 54, 54, 58, 57, 63, 54, 37, 51, 34, 26, 50, 48, 45, 52, 56,\n",
    "40, 54, 28, 52, 47, 55, 55, 54, 42, 51, 50, 55, 51, 54, 32, 21, 62, 43, 55,\n",
    "50, 61, 53, 22, 64, 45, 54, 47, 38] \n",
    "\n",
    "data_dict = {'heights':(heights), 'weights': (weights) , 'ages': (ages)}\n",
    "df = pd.DataFrame(data=data_dict)\n",
    "\n",
    "print(df.info(),\"\\n\"*4)\n",
    "print(df.head(3))\n",
    "print(df.tail(3))\n",
    "\n",
    "\n"
   ]
  },
  {
   "cell_type": "markdown",
   "metadata": {},
   "source": [
    "### 2.2"
   ]
  },
  {
   "cell_type": "code",
   "execution_count": 7,
   "metadata": {},
   "outputs": [],
   "source": [
    "import pandas as pd\n",
    "\n",
    "\n",
    "heights = [188, 172, 187, 161, 183, 172, 185, 163, 173, 183, 174, 174, 175,\n",
    "178, 183, 195, 178, 173, 174, 183, 174, 181, 162, 180, 170, 175, 182, 180, 183,\n",
    "178, 182, 188, 175, 179, 184, 193, 182, 183, 175, 185, 182, 183, 150, 185, 199]\n",
    "\n",
    "weights = [86, 71, 89, 64, 83, 72, 86, 68, 73, 84, 73, 72, 75, 78, 85, 93, 78,\n",
    "70, 74, 80, 83, 82, 68, 80, 73, 78, 82, 81, 83, 79, 82, 86, 76, 77, 80, 103,\n",
    "82, 83, 77, 89, 80, 85, 82, 85, 110]\n",
    "\n",
    "ages = [58, 61, 54, 54, 58, 57, 63, 54, 37, 51, 34, 26, 50, 48, 45, 52, 56,\n",
    "40, 54, 28, 52, 47, 55, 55, 54, 42, 51, 50, 55, 51, 54, 32, 21, 62, 43, 55,\n",
    "50, 61, 53, 22, 64, 45, 54, 47, 38] \n",
    "\n",
    "data_dict = {'heights':(heights), 'weights': (weights) , 'ages': (ages)}\n",
    "df = pd.DataFrame(data=data_dict)"
   ]
  },
  {
   "cell_type": "markdown",
   "metadata": {},
   "source": [
    "1)"
   ]
  },
  {
   "cell_type": "code",
   "execution_count": 8,
   "metadata": {},
   "outputs": [
    {
     "name": "stdout",
     "output_type": "stream",
     "text": [
      "heights    199\n",
      "weights    110\n",
      "ages        64\n",
      "dtype: int64 \n",
      "\n",
      "\n",
      "heights    150\n",
      "weights     64\n",
      "ages        21\n",
      "dtype: int64 \n",
      "\n",
      "\n"
     ]
    }
   ],
   "source": [
    "print(df.max(), \"\\n\"*2)\n",
    "print(df.min(), \"\\n\"*2)"
   ]
  },
  {
   "cell_type": "markdown",
   "metadata": {},
   "source": [
    "2)"
   ]
  },
  {
   "cell_type": "code",
   "execution_count": 9,
   "metadata": {},
   "outputs": [
    {
     "name": "stdout",
     "output_type": "stream",
     "text": [
      "heights 178.756 \n",
      "\n",
      "\n",
      "weights 80.444 \n",
      "\n",
      "\n",
      "ages 48.733 \n",
      "\n",
      "\n"
     ]
    }
   ],
   "source": [
    "print('heights', round (df['heights'].mean(),3), \"\\n\"*2)\n",
    "print('weights', round (df['weights'].mean(),3), \"\\n\"*2)\n",
    "print('ages', round (df['ages'].mean(),3), \"\\n\"*2)"
   ]
  },
  {
   "cell_type": "markdown",
   "metadata": {},
   "source": [
    "3)"
   ]
  },
  {
   "cell_type": "code",
   "execution_count": 10,
   "metadata": {},
   "outputs": [
    {
     "name": "stdout",
     "output_type": "stream",
     "text": [
      "heights no mean() 178.756 \n",
      "\n",
      "\n",
      "weights no mean() 80.444 \n",
      "\n",
      "\n",
      "ages no mean() 48.733 \n",
      "\n",
      "\n"
     ]
    }
   ],
   "source": [
    "print('heights no mean()', round (df['heights'].sum() / len(df['heights']), 3), \"\\n\"*2)\n",
    "print('weights no mean()', round(df['weights'].sum() / len(df['weights']), 3), \"\\n\"*2)\n",
    "print('ages no mean()', round(df['ages'].sum() / len(df['ages']), 3), \"\\n\"*2)"
   ]
  },
  {
   "cell_type": "markdown",
   "metadata": {},
   "source": [
    "4)"
   ]
  },
  {
   "cell_type": "code",
   "execution_count": 11,
   "metadata": {},
   "outputs": [
    {
     "name": "stdout",
     "output_type": "stream",
     "text": [
      "median() heights    180.0\n",
      "weights     80.0\n",
      "ages        52.0\n",
      "dtype: float64 \n",
      "\n",
      "\n"
     ]
    }
   ],
   "source": [
    "print('median()',df.median(), \"\\n\"*2)"
   ]
  },
  {
   "cell_type": "markdown",
   "metadata": {},
   "source": [
    "5)"
   ]
  },
  {
   "cell_type": "code",
   "execution_count": 12,
   "metadata": {},
   "outputs": [
    {
     "name": "stdout",
     "output_type": "stream",
     "text": [
      "Стандартное отклонение heights     8.906473\n",
      "weights     8.414154\n",
      "ages       10.645955\n",
      "dtype: float64\n"
     ]
    }
   ],
   "source": [
    "print('Стандартное отклонение', df.std())"
   ]
  },
  {
   "cell_type": "markdown",
   "metadata": {},
   "source": [
    "### 2.3"
   ]
  },
  {
   "cell_type": "code",
   "execution_count": 13,
   "metadata": {},
   "outputs": [
    {
     "name": "stdout",
     "output_type": "stream",
     "text": [
      "          heights     weights       ages\n",
      "count   45.000000   45.000000  45.000000\n",
      "mean   178.755556   80.444444  48.733333\n",
      "std      8.906473    8.414154  10.645955\n",
      "min    150.000000   64.000000  21.000000\n",
      "25%    174.000000   75.000000  45.000000\n",
      "50%    180.000000   80.000000  52.000000\n",
      "75%    183.000000   84.000000  55.000000\n",
      "max    199.000000  110.000000  64.000000\n"
     ]
    }
   ],
   "source": [
    "import pandas as pd\n",
    "\n",
    "\n",
    "heights = [188, 172, 187, 161, 183, 172, 185, 163, 173, 183, 174, 174, 175,\n",
    "178, 183, 195, 178, 173, 174, 183, 174, 181, 162, 180, 170, 175, 182, 180, 183,\n",
    "178, 182, 188, 175, 179, 184, 193, 182, 183, 175, 185, 182, 183, 150, 185, 199]\n",
    "\n",
    "weights = [86, 71, 89, 64, 83, 72, 86, 68, 73, 84, 73, 72, 75, 78, 85, 93, 78,\n",
    "70, 74, 80, 83, 82, 68, 80, 73, 78, 82, 81, 83, 79, 82, 86, 76, 77, 80, 103,\n",
    "82, 83, 77, 89, 80, 85, 82, 85, 110]\n",
    "\n",
    "ages = [58, 61, 54, 54, 58, 57, 63, 54, 37, 51, 34, 26, 50, 48, 45, 52, 56,\n",
    "40, 54, 28, 52, 47, 55, 55, 54, 42, 51, 50, 55, 51, 54, 32, 21, 62, 43, 55,\n",
    "50, 61, 53, 22, 64, 45, 54, 47, 38] \n",
    "\n",
    "data_dict = {'heights':(heights), 'weights': (weights) , 'ages': (ages)}\n",
    "df = pd.DataFrame(data_dict)\n",
    "print(df.describe())"
   ]
  }
 ],
 "metadata": {
  "kernelspec": {
   "display_name": "Python 3.10.6 64-bit",
   "language": "python",
   "name": "python3"
  },
  "language_info": {
   "codemirror_mode": {
    "name": "ipython",
    "version": 3
   },
   "file_extension": ".py",
   "mimetype": "text/x-python",
   "name": "python",
   "nbconvert_exporter": "python",
   "pygments_lexer": "ipython3",
   "version": "3.10.6"
  },
  "orig_nbformat": 4,
  "vscode": {
   "interpreter": {
    "hash": "3d8339e432030cf8d6bc4a316fe0272e8933724461f8aa8f9b602d3280b818dd"
   }
  }
 },
 "nbformat": 4,
 "nbformat_minor": 2
}
